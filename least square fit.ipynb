{
 "cells": [
  {
   "cell_type": "code",
   "execution_count": 25,
   "id": "e751da1c",
   "metadata": {},
   "outputs": [],
   "source": [
    "import pandas as pd\n",
    "import sympy as sp\n",
    "\n",
    "# variables to be calculated: A, B, delta, m11, m12, m21, m22, v1, v2\n",
    "\n",
    "data= pd.read_csv(\"lab4data.csv\")"
   ]
  },
  {
   "cell_type": "code",
   "execution_count": 26,
   "id": "33c74c0e",
   "metadata": {},
   "outputs": [
    {
     "name": "stdout",
     "output_type": "stream",
     "text": [
      "3763.465393444707\n"
     ]
    }
   ],
   "source": [
    "# m11 \n",
    "m11 = 0\n",
    "\n",
    "list_m11 = 1/(data[\"sigmai\"])**2\n",
    "#print(list_m11)\n",
    "\n",
    "for i in list_m11: \n",
    "    m11 += i\n",
    "\n",
    "print(m11)"
   ]
  },
  {
   "cell_type": "code",
   "execution_count": 27,
   "id": "c1fb7722",
   "metadata": {},
   "outputs": [
    {
     "name": "stdout",
     "output_type": "stream",
     "text": [
      "654983.1668755414\n",
      "654983.1668755414\n"
     ]
    }
   ],
   "source": [
    "# m12 and m21\n",
    "m12 = 0 \n",
    "\n",
    "list_m12 = data[\"Time\"]/(data[\"sigmai\"])**2\n",
    "\n",
    "for i in list_m12:\n",
    "    m12 += i\n",
    "    \n",
    "print(m12)\n",
    "\n",
    "m21 = m12 \n",
    "print(m21)"
   ]
  },
  {
   "cell_type": "code",
   "execution_count": 28,
   "id": "29f26050",
   "metadata": {},
   "outputs": [
    {
     "name": "stdout",
     "output_type": "stream",
     "text": [
      "188467261.6334113\n"
     ]
    }
   ],
   "source": [
    "# m22\n",
    "m22 = 0 \n",
    "\n",
    "list_m22 = (data[\"Time\"]**2)/(data[\"sigmai\"]**2)\n",
    "\n",
    "for i in list_m22:\n",
    "    m22 += i\n",
    "    \n",
    "print(m22)"
   ]
  },
  {
   "cell_type": "code",
   "execution_count": 29,
   "id": "b4301299",
   "metadata": {},
   "outputs": [
    {
     "name": "stdout",
     "output_type": "stream",
     "text": [
      "17058.559455242852\n"
     ]
    }
   ],
   "source": [
    "# v1\n",
    "v1 = 0\n",
    "\n",
    "list_v1 = data[\"ln(D)\"]/(data[\"sigmai\"]**2)\n",
    "#print(list_v1)\n",
    "\n",
    "for i in list_v1:\n",
    "    v1 += i \n",
    "    \n",
    "print(v1)"
   ]
  },
  {
   "cell_type": "code",
   "execution_count": 30,
   "id": "f2793da0",
   "metadata": {},
   "outputs": [
    {
     "name": "stdout",
     "output_type": "stream",
     "text": [
      "2639016.8954897965\n"
     ]
    }
   ],
   "source": [
    "# v2 \n",
    "v2 = 0\n",
    "\n",
    "list_v2 = (data[\"Time\"]*data[\"ln(D)\"])/(data[\"sigmai\"]**2)\n",
    "#print(list_v2)\n",
    "\n",
    "for i in list_v2:\n",
    "    v2 += i \n",
    "    \n",
    "print(v2)"
   ]
  },
  {
   "cell_type": "code",
   "execution_count": 31,
   "id": "f349436e",
   "metadata": {},
   "outputs": [
    {
     "name": "stdout",
     "output_type": "stream",
     "text": [
      "a =  5.303378263435543\n",
      "b =  -0.004428390307158608\n"
     ]
    }
   ],
   "source": [
    "# final results \n",
    "\n",
    "delta = (m11*m22)-(m12*m21)\n",
    "\n",
    "a = (m22*v1-m12*v2)/delta \n",
    "\n",
    "b = (m11*v2-m21*v1)/delta\n",
    "\n",
    "print(\"a = \", a)\n",
    "print(\"b = \", b)"
   ]
  },
  {
   "cell_type": "code",
   "execution_count": 32,
   "id": "cbfed747",
   "metadata": {},
   "outputs": [
    {
     "name": "stdout",
     "output_type": "stream",
     "text": [
      "sigma a:  0.0259308307106049\n",
      "sigma b:  0.000115875716647227\n"
     ]
    }
   ],
   "source": [
    "sigma_a = sp.sqrt(m22/delta)\n",
    "sigma_b = sp.sqrt(m11/delta)\n",
    "\n",
    "print(\"sigma a: \", sigma_a)\n",
    "print(\"sigma b: \",sigma_b)"
   ]
  },
  {
   "cell_type": "code",
   "execution_count": 33,
   "id": "fc4736ed",
   "metadata": {},
   "outputs": [
    {
     "data": {
      "text/plain": [
       "<AxesSubplot:>"
      ]
     },
     "execution_count": 33,
     "metadata": {},
     "output_type": "execute_result"
    },
    {
     "data": {
      "image/png": "[encoded data removed]",
      "text/plain": [
       "<Figure size 432x288 with 1 Axes>"
      ]
     },
     "metadata": {
      "needs_background": "light"
     },
     "output_type": "display_data"
    }
   ],
   "source": [
    "#Yi \n",
    "\n",
    "y_i_l=[]\n",
    "\n",
    "for i in data[\"Time\"]: \n",
    "    y_i_l.append(a+b*i)\n",
    "\n",
    "y_i = pd.DataFrame(y_i_l)\n",
    "\n",
    "#check plot\n",
    "y_i.plot.line()"
   ]
  },
  {
   "cell_type": "code",
   "execution_count": 34,
   "id": "c3873cb1",
   "metadata": {},
   "outputs": [
    {
     "name": "stdout",
     "output_type": "stream",
     "text": [
      "X^2 =  1770\n"
     ]
    }
   ],
   "source": [
    "# X^2 \n",
    "\n",
    "X_2_l = (data[\"ln(D)\"]-y_i)**2/(data[\"sigmai\"])**2 \n",
    "X_2 = 0\n",
    "\n",
    "for i in X_2_l:\n",
    "    X_2 += i\n",
    "    \n",
    "print(\"X^2 = \", X_2)"
   ]
  },
  {
   "cell_type": "code",
   "execution_count": 35,
   "id": "302cdaac",
   "metadata": {},
   "outputs": [
    {
     "name": "stdout",
     "output_type": "stream",
     "text": [
      "Do:  201.014744971475\n",
      "tau:  225.81568710948397\n",
      "tau 1/2:  225.815687109484*log(2)\n"
     ]
    }
   ],
   "source": [
    "# tau, tau_1/2 and Do \n",
    "\n",
    "print(\"Do: \",sp.exp(a))\n",
    "print(\"tau: \", -1/b)\n",
    "print(\"tau 1/2: \",(-1/b)*sp.ln(2))"
   ]
  },
  {
   "cell_type": "code",
   "execution_count": 36,
   "id": "83fd05c6",
   "metadata": {},
   "outputs": [
    {
     "name": "stdout",
     "output_type": "stream",
     "text": [
      "tau uncertainty:  5.90881850041506\n",
      "tau half uncertainty:  4.09568088400314\n",
      "Do uncertainty:  5.21247932219074\n"
     ]
    }
   ],
   "source": [
    "# error propagation for sigma tau and sigma Do \n",
    "# ln(Do) = A -> Do = e^A and -1/tau = B -> tau = -1/B and tau_half = tau*ln(2)\n",
    "\n",
    "f = sp.Function(\"f\")\n",
    "g = sp.Function(\"g\")\n",
    "h = sp.Function(\"h\")\n",
    "\n",
    "A = sp.Symbol(\"A\")\n",
    "B = sp.Symbol(\"B\")\n",
    "\n",
    "f = sp.exp(A)\n",
    "g = -1/B\n",
    "\n",
    "Do_u = sp.sqrt((sp.diff(f, A)*sigma_a)**2)\n",
    "tau_u = sp.sqrt((sp.diff(g, B)*sigma_b)**2)\n",
    "\n",
    "tau_u_val = tau_u.evalf(subs={B: b})\n",
    "\n",
    "print(\"tau uncertainty: \", tau_u_val)\n",
    "\n",
    "tau = sp.Symbol(\"tau\")\n",
    "h = tau*sp.ln(2)\n",
    "\n",
    "tau_h_u = sp.sqrt((sp.diff(h, tau)*tau_u_val)**2)\n",
    "print(\"tau half uncertainty: \",tau_h_u.evalf(subs={tau: -1/b}))\n",
    "\n",
    "print(\"Do uncertainty: \",Do_u.evalf(subs={A: a}))"
   ]
  },
  {
   "cell_type": "code",
   "execution_count": null,
   "id": "e858a14a",
   "metadata": {},
   "outputs": [],
   "source": []
  }
 ],
 "metadata": {
  "kernelspec": {
   "display_name": "Python 3 (ipykernel)",
   "language": "python",
   "name": "python3"
  },
  "language_info": {
   "codemirror_mode": {
    "name": "ipython",
    "version": 3
   },
   "file_extension": ".py",
   "mimetype": "text/x-python",
   "name": "python",
   "nbconvert_exporter": "python",
   "pygments_lexer": "ipython3",
   "version": "3.8.5"
  }
 },
 "nbformat": 4,
 "nbformat_minor": 5
}
