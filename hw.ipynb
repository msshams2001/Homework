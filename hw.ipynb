{
 "cells": [
  {
   "cell_type": "code",
   "execution_count": 1,
   "id": "7a2c5d44",
   "metadata": {
    "scrolled": true
   },
   "outputs": [],
   "source": [
    "from sympy.interactive import printing \n",
    "printing.init_printing(use_latex = True)\n",
    "\n",
    "import numpy as np \n",
    "import sympy as sp "
   ]
  },
  {
   "cell_type": "code",
   "execution_count": 2,
   "id": "706e3c3d",
   "metadata": {},
   "outputs": [
    {
     "name": "stderr",
     "output_type": "stream",
     "text": [
      "/Users/msshams/opt/anaconda3/lib/python3.8/site-packages/IPython/lib/latextools.py:126: MatplotlibDeprecationWarning: \n",
      "The to_png function was deprecated in Matplotlib 3.4 and will be removed two minor releases later. Use mathtext.math_to_image instead.\n",
      "  mt.to_png(f, s, fontsize=12, dpi=dpi, color=color)\n",
      "/Users/msshams/opt/anaconda3/lib/python3.8/site-packages/IPython/lib/latextools.py:126: MatplotlibDeprecationWarning: \n",
      "The to_rgba function was deprecated in Matplotlib 3.4 and will be removed two minor releases later. Use mathtext.math_to_image instead.\n",
      "  mt.to_png(f, s, fontsize=12, dpi=dpi, color=color)\n",
      "/Users/msshams/opt/anaconda3/lib/python3.8/site-packages/IPython/lib/latextools.py:126: MatplotlibDeprecationWarning: \n",
      "The to_mask function was deprecated in Matplotlib 3.4 and will be removed two minor releases later. Use mathtext.math_to_image instead.\n",
      "  mt.to_png(f, s, fontsize=12, dpi=dpi, color=color)\n",
      "/Users/msshams/opt/anaconda3/lib/python3.8/site-packages/IPython/lib/latextools.py:126: MatplotlibDeprecationWarning: \n",
      "The MathtextBackendBitmap class was deprecated in Matplotlib 3.4 and will be removed two minor releases later. Use mathtext.math_to_image instead.\n",
      "  mt.to_png(f, s, fontsize=12, dpi=dpi, color=color)\n"
     ]
    },
    {
     "data": {
      "image/png": "[encoded data removed]",
      "text/latex": [
       "$\\displaystyle \\frac{16 E \\left(- \\frac{E}{V} + 1\\right) e^{- \\frac{2 \\sqrt{2} L \\sqrt{m \\left(- E + V\\right)}}{h}}}{V}$"
      ],
      "text/plain": [
       "                          ____________ \n",
       "                -2⋅√2⋅L⋅╲╱ m⋅(-E + V)  \n",
       "                ───────────────────────\n",
       "     ⎛  E    ⎞             h           \n",
       "16⋅E⋅⎜- ─ + 1⎟⋅ℯ                       \n",
       "     ⎝  V    ⎠                         \n",
       "───────────────────────────────────────\n",
       "                   V                   "
      ]
     },
     "metadata": {},
     "output_type": "display_data"
    },
    {
     "data": {
      "image/png": "[encoded data removed]",
      "text/latex": [
       "$\\displaystyle 2.36646482085029 \\cdot 10^{-111728685313967703764}$"
      ],
      "text/plain": [
       "2.36646482085029e-111728685313967703764"
      ]
     },
     "execution_count": 2,
     "metadata": {},
     "output_type": "execute_result"
    }
   ],
   "source": [
    "# Integral \n",
    "\n",
    "f = sp.Function('f')\n",
    "E, V, h, L, m = sp.symbols('E V h L m')\n",
    "\n",
    "f = 16*(E/V)*(1-(E/V))*sp.exp((-2*L/h)*sp.sqrt(2*m*(V-E)))\n",
    "display(f)\n",
    "\n",
    "#g = sp.exp(-2*sp.sqrt((2*m*(V-E))/h**2)*L**2)\n",
    "#display(g)\n",
    "\n",
    "f.evalf(subs={E: 875,V:3430,h:1.055*10**-34,L:0.2,m:9.01*10**-31})\n",
    "#g.evalf(subs={E: 875,V:3430,h:1.055*10**-34,L:0.2,m:9.01*10**-31})\n",
    "#sp.integrate(f,(y,0,1), (x,0,1))"
   ]
  },
  {
   "cell_type": "code",
   "execution_count": 3,
   "id": "2ffdb9d0",
   "metadata": {},
   "outputs": [
    {
     "data": {
      "image/png": "[encoded data removed]",
      "text/latex": [
       "$\\displaystyle - \\frac{n r^{- n}}{r}$"
      ],
      "text/plain": [
       "    -n \n",
       "-n⋅r   \n",
       "───────\n",
       "   r   "
      ]
     },
     "execution_count": 3,
     "metadata": {},
     "output_type": "execute_result"
    }
   ],
   "source": [
    "# Derivative \n",
    "\n",
    "g = sp.Function('g')\n",
    "r, n = sp.symbols('r n')\n",
    "\n",
    "g = 1/sp.Pow(r,n)\n",
    "\n",
    "sp.diff(g, r)"
   ]
  },
  {
   "cell_type": "code",
   "execution_count": null,
   "id": "1cfd5be3",
   "metadata": {},
   "outputs": [],
   "source": []
  },
  {
   "cell_type": "code",
   "execution_count": null,
   "id": "d04c5ca4",
   "metadata": {},
   "outputs": [],
   "source": []
  }
 ],
 "metadata": {
  "kernelspec": {
   "display_name": "Python 3 (ipykernel)",
   "language": "python",
   "name": "python3"
  },
  "language_info": {
   "codemirror_mode": {
    "name": "ipython",
    "version": 3
   },
   "file_extension": ".py",
   "mimetype": "text/x-python",
   "name": "python",
   "nbconvert_exporter": "python",
   "pygments_lexer": "ipython3",
   "version": "3.8.5"
  }
 },
 "nbformat": 4,
 "nbformat_minor": 5
}
