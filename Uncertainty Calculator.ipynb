{
 "cells": [
  {
   "cell_type": "code",
   "execution_count": 46,
   "id": "43ae4e98",
   "metadata": {},
   "outputs": [],
   "source": [
    "from sympy.interactive import printing \n",
    "printing.init_printing(use_latex = True)\n",
    "\n",
    "import numpy as np \n",
    "import sympy as sp "
   ]
  },
  {
   "cell_type": "code",
   "execution_count": 47,
   "id": "140faa7f",
   "metadata": {},
   "outputs": [
    {
     "name": "stdout",
     "output_type": "stream",
     "text": [
      "Average Value: \n"
     ]
    },
    {
     "data": {
      "image/png": "[encoded data removed]",
      "text/latex": [
       "$\\displaystyle 3.85$"
      ],
      "text/plain": [
       "3.85"
      ]
     },
     "metadata": {},
     "output_type": "display_data"
    },
    {
     "name": "stdout",
     "output_type": "stream",
     "text": [
      "\n",
      "Uncertainty: \n"
     ]
    },
    {
     "data": {
      "image/png": "[encoded data removed]",
      "text/latex": [
       "$\\displaystyle 0.111803398874989$"
      ],
      "text/plain": [
       "0.11180339887498944"
      ]
     },
     "metadata": {},
     "output_type": "display_data"
    }
   ],
   "source": [
    "# average and measured uncertainty \n",
    "n = [3.7, 3.9, 4.0, 3.8, 3.85]\n",
    "\n",
    "def average(arr):\n",
    "    avg = 0\n",
    "    i = 0\n",
    "    for x in arr:\n",
    "        avg += x\n",
    "        i+=1\n",
    "    return avg/i\n",
    "\n",
    "def std(arr):\n",
    "    s = 0\n",
    "    for x in arr:\n",
    "        s += (x-average(arr))**2\n",
    "    return np.sqrt((1/(len(arr)-1))*s) \n",
    "\n",
    "\n",
    "print(\"Average Value: \" )\n",
    "display(average(n))\n",
    "print(\"\\nUncertainty: \")\n",
    "display(std(n))"
   ]
  },
  {
   "cell_type": "code",
   "execution_count": 48,
   "id": "e7b5c2a0",
   "metadata": {},
   "outputs": [],
   "source": [
    "# propagated uncertainty \n",
    "func = sp.Function('func')\n",
    "\n",
    "d = sp.Symbol('d')\n",
    "L = sp.Symbol('L')\n",
    "hn = sp.Symbol('hn')\n",
    "ho = sp.Symbol('ho')\n",
    "\n",
    "du = sp.Symbol('du')\n",
    "Lu = sp.Symbol('Lu')\n",
    "hnu = sp.Symbol('hnu')\n",
    "hou = sp.Symbol('hou')"
   ]
  },
  {
   "cell_type": "code",
   "execution_count": 49,
   "id": "54a2521d",
   "metadata": {},
   "outputs": [
    {
     "data": {
      "image/png": "[encoded data removed]",
      "text/latex": [
       "$\\displaystyle \\frac{d ho \\left(hn - ho\\right)}{2 L^{2}}$"
      ],
      "text/plain": [
       "d⋅ho⋅(hn - ho)\n",
       "──────────────\n",
       "        2     \n",
       "     2⋅L      "
      ]
     },
     "metadata": {},
     "output_type": "display_data"
    }
   ],
   "source": [
    "func = (d*ho*(hn-ho))/(2*L*L)\n",
    "display(func)"
   ]
  },
  {
   "cell_type": "code",
   "execution_count": 73,
   "id": "385576fd",
   "metadata": {},
   "outputs": [
    {
     "data": {
      "image/png": "[encoded data removed]",
      "text/latex": [
       "$\\displaystyle \\sqrt{hou^{2} \\left(- \\frac{d ho}{2 L^{2}} + \\frac{d \\left(hn - ho\\right)}{2 L^{2}}\\right)^{2} + \\frac{d^{2} hnu^{2} ho^{2}}{4 L^{4}} + \\frac{Lu^{2} d^{2} ho^{2} \\left(hn - ho\\right)^{2}}{L^{6}}}$"
      ],
      "text/plain": [
       "      ____________________________________________________________________\n",
       "     ╱                            2    2    2   2     2  2   2          2 \n",
       "    ╱     2 ⎛  d⋅ho   d⋅(hn - ho)⎞    d ⋅hnu ⋅ho    Lu ⋅d ⋅ho ⋅(hn - ho)  \n",
       "   ╱   hou ⋅⎜- ──── + ───────────⎟  + ─────────── + ───────────────────── \n",
       "  ╱         ⎜     2          2   ⎟           4                 6          \n",
       "╲╱          ⎝  2⋅L        2⋅L    ⎠        4⋅L                 L           "
      ]
     },
     "metadata": {},
     "output_type": "display_data"
    },
    {
     "name": "stdout",
     "output_type": "stream",
     "text": [
      "1.39932095246519e-8\n",
      "0.0221131629656320\n"
     ]
    }
   ],
   "source": [
    "unc = sp.sqrt((sp.diff(func, ho)*hou)**2+(sp.diff(func, L)*Lu)**2+(sp.diff(func, hn)*hnu)**2)\n",
    "display(unc)\n",
    "ans = unc.evalf(subs={L:1.693,Lu:0.001,ho:0.1,hou:0.001,hn:0.19,hnu:0.001,d:0.00079375})\n",
    "print(ans)\n",
    "\n",
    "print(ans/(632.8*10**-9))"
   ]
  },
  {
   "cell_type": "code",
   "execution_count": 74,
   "id": "caeda30a",
   "metadata": {},
   "outputs": [
    {
     "data": {
      "image/png": "[encoded data removed]",
      "text/latex": [
       "$\\displaystyle 6.22974486864191 \\cdot 10^{-7}$"
      ],
      "text/plain": [
       "6.22974486864191e-7"
      ]
     },
     "execution_count": 74,
     "metadata": {},
     "output_type": "execute_result"
    }
   ],
   "source": [
    "func.evalf(subs={d:0.0003968,L:1.693,ho:0.1,hn:0.19})"
   ]
  },
  {
   "cell_type": "code",
   "execution_count": null,
   "id": "7c2c645a",
   "metadata": {},
   "outputs": [],
   "source": []
  }
 ],
 "metadata": {
  "kernelspec": {
   "display_name": "Python 3 (ipykernel)",
   "language": "python",
   "name": "python3"
  },
  "language_info": {
   "codemirror_mode": {
    "name": "ipython",
    "version": 3
   },
   "file_extension": ".py",
   "mimetype": "text/x-python",
   "name": "python",
   "nbconvert_exporter": "python",
   "pygments_lexer": "ipython3",
   "version": "3.8.5"
  }
 },
 "nbformat": 4,
 "nbformat_minor": 5
}
